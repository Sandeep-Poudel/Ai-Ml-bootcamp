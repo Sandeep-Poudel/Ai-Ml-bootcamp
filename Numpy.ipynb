{
 "cells": [
  {
   "cell_type": "markdown",
   "id": "32493c37",
   "metadata": {},
   "source": [
    "# Introduction to Numpy"
   ]
  },
  {
   "cell_type": "code",
   "execution_count": 1,
   "id": "de3a739f",
   "metadata": {},
   "outputs": [
    {
     "name": "stdout",
     "output_type": "stream",
     "text": [
      "Requirement already satisfied: numpy in /home/sandeep/anaconda3/lib/python3.11/site-packages (1.24.3)\r\n"
     ]
    }
   ],
   "source": [
    "!pip install numpy"
   ]
  },
  {
   "cell_type": "markdown",
   "id": "28c6a7f3",
   "metadata": {},
   "source": [
    "## Importing numpy\n"
   ]
  },
  {
   "cell_type": "code",
   "execution_count": 3,
   "id": "8c1d79e7",
   "metadata": {},
   "outputs": [],
   "source": [
    "import numpy as np"
   ]
  },
  {
   "cell_type": "code",
   "execution_count": 5,
   "id": "534d5b45",
   "metadata": {},
   "outputs": [
    {
     "data": {
      "text/plain": [
       "6"
      ]
     },
     "execution_count": 5,
     "metadata": {},
     "output_type": "execute_result"
    }
   ],
   "source": [
    "even =[6,8,6,4,12,14]\n",
    "len(even)"
   ]
  },
  {
   "cell_type": "code",
   "execution_count": 6,
   "id": "21fe698b",
   "metadata": {},
   "outputs": [
    {
     "data": {
      "text/plain": [
       "array([ 6,  8,  6,  4, 12, 14])"
      ]
     },
     "execution_count": 6,
     "metadata": {},
     "output_type": "execute_result"
    }
   ],
   "source": [
    "evenArray = np.array(even)    #changing list to array\n",
    "evenArray"
   ]
  },
  {
   "cell_type": "code",
   "execution_count": 7,
   "id": "b99d7176",
   "metadata": {},
   "outputs": [
    {
     "data": {
      "text/plain": [
       "6"
      ]
     },
     "execution_count": 7,
     "metadata": {},
     "output_type": "execute_result"
    }
   ],
   "source": [
    "evenArray[0]"
   ]
  },
  {
   "cell_type": "code",
   "execution_count": 8,
   "id": "6200ffd1",
   "metadata": {},
   "outputs": [
    {
     "data": {
      "text/plain": [
       "8"
      ]
     },
     "execution_count": 8,
     "metadata": {},
     "output_type": "execute_result"
    }
   ],
   "source": [
    "evenArray[1]"
   ]
  },
  {
   "cell_type": "code",
   "execution_count": 9,
   "id": "01a1d7e6",
   "metadata": {},
   "outputs": [
    {
     "data": {
      "text/plain": [
       "14"
      ]
     },
     "execution_count": 9,
     "metadata": {},
     "output_type": "execute_result"
    }
   ],
   "source": [
    "evenArray[5]"
   ]
  },
  {
   "cell_type": "code",
   "execution_count": 10,
   "id": "3c40e455",
   "metadata": {},
   "outputs": [
    {
     "data": {
      "text/plain": [
       "14"
      ]
     },
     "execution_count": 10,
     "metadata": {},
     "output_type": "execute_result"
    }
   ],
   "source": [
    "evenArray[-1]    #negative indexing in array"
   ]
  },
  {
   "cell_type": "code",
   "execution_count": 11,
   "id": "1824274c",
   "metadata": {},
   "outputs": [
    {
     "data": {
      "text/plain": [
       "4"
      ]
     },
     "execution_count": 11,
     "metadata": {},
     "output_type": "execute_result"
    }
   ],
   "source": [
    "evenArray[-3]"
   ]
  },
  {
   "cell_type": "markdown",
   "id": "766900b7",
   "metadata": {},
   "source": [
    "###  Slicing in python"
   ]
  },
  {
   "cell_type": "code",
   "execution_count": 12,
   "id": "d8c9c906",
   "metadata": {},
   "outputs": [
    {
     "data": {
      "text/plain": [
       "array([8, 6, 4])"
      ]
     },
     "execution_count": 12,
     "metadata": {},
     "output_type": "execute_result"
    }
   ],
   "source": [
    "evenArray[1:4]   #slices the values from 1 to 3  [1,4)."
   ]
  },
  {
   "cell_type": "code",
   "execution_count": 13,
   "id": "e21aa1e9",
   "metadata": {},
   "outputs": [
    {
     "data": {
      "text/plain": [
       "numpy.ndarray"
      ]
     },
     "execution_count": 13,
     "metadata": {},
     "output_type": "execute_result"
    }
   ],
   "source": [
    "type(evenArray)    #returns the type of the evenArray"
   ]
  },
  {
   "cell_type": "code",
   "execution_count": 15,
   "id": "2529f7aa",
   "metadata": {},
   "outputs": [
    {
     "data": {
      "text/plain": [
       "1"
      ]
     },
     "execution_count": 15,
     "metadata": {},
     "output_type": "execute_result"
    }
   ],
   "source": [
    "evenArray.ndim #returns the dimension of the array."
   ]
  },
  {
   "cell_type": "markdown",
   "id": "b4117f76",
   "metadata": {},
   "source": [
    "## Difference between List and array \n",
    "> - Numpy array are faster than python list.\n",
    "> - Numpy array are memory effecient than python list.\n",
    "> - Numpy array supports homogeneous date type while python list supports multiple data type."
   ]
  },
  {
   "cell_type": "code",
   "execution_count": 16,
   "id": "39bb5fed",
   "metadata": {},
   "outputs": [
    {
     "data": {
      "text/plain": [
       "array([0, 0, 0, 0, 0], dtype=int8)"
      ]
     },
     "execution_count": 16,
     "metadata": {},
     "output_type": "execute_result"
    }
   ],
   "source": [
    "x = np.zeros(5,dtype=np.int8)  #Numpy array are memory effecient than python list."
   ]
  },
  {
   "cell_type": "code",
   "execution_count": 17,
   "id": "18b72f87",
   "metadata": {},
   "outputs": [
    {
     "data": {
      "text/plain": [
       "array([1., 1., 1.], dtype=float16)"
      ]
     },
     "execution_count": 17,
     "metadata": {},
     "output_type": "execute_result"
    }
   ],
   "source": [
    "np.ones(3,dtype=np.float16)"
   ]
  },
  {
   "cell_type": "code",
   "execution_count": 21,
   "id": "5f9c9ef6",
   "metadata": {},
   "outputs": [
    {
     "data": {
      "text/plain": [
       "3"
      ]
     },
     "execution_count": 21,
     "metadata": {},
     "output_type": "execute_result"
    }
   ],
   "source": [
    "np.random.randint(0,10) #non deterministic"
   ]
  },
  {
   "cell_type": "code",
   "execution_count": 22,
   "id": "34c8b821",
   "metadata": {},
   "outputs": [
    {
     "data": {
      "text/plain": [
       "5"
      ]
     },
     "execution_count": 22,
     "metadata": {},
     "output_type": "execute_result"
    }
   ],
   "source": [
    "np.random.seed(0) #deterministic \n",
    "np.random.randint(0,10)"
   ]
  },
  {
   "cell_type": "code",
   "execution_count": 37,
   "id": "1c84c56a",
   "metadata": {},
   "outputs": [],
   "source": [
    "np.random.seed(2023)                   #random numbers of size 50000 in range 1 to 10\n",
    "x = np.random.randint(1,10,size=50000)"
   ]
  },
  {
   "cell_type": "code",
   "execution_count": 38,
   "id": "95d2f60c",
   "metadata": {},
   "outputs": [],
   "source": [
    "xList = x.tolist()                #changes array to list  , typecasting"
   ]
  },
  {
   "cell_type": "code",
   "execution_count": 39,
   "id": "b9d1a35f",
   "metadata": {},
   "outputs": [],
   "source": [
    "a =[8,9,7]\n",
    "sq=[]\n",
    "for item in a:\n",
    "    sq.append(item ** 2)"
   ]
  },
  {
   "cell_type": "code",
   "execution_count": 40,
   "id": "55488018",
   "metadata": {},
   "outputs": [
    {
     "data": {
      "text/plain": [
       "[64, 81, 49]"
      ]
     },
     "execution_count": 40,
     "metadata": {},
     "output_type": "execute_result"
    }
   ],
   "source": [
    "sq"
   ]
  },
  {
   "cell_type": "markdown",
   "id": "543390f8",
   "metadata": {},
   "source": [
    "- ### List comprehension"
   ]
  },
  {
   "cell_type": "code",
   "execution_count": 41,
   "id": "5cea0514",
   "metadata": {},
   "outputs": [],
   "source": [
    "sq = [item**2 for item in a]"
   ]
  },
  {
   "cell_type": "code",
   "execution_count": 42,
   "id": "594c9d43",
   "metadata": {},
   "outputs": [
    {
     "name": "stdout",
     "output_type": "stream",
     "text": [
      "CPU times: user 5.77 ms, sys: 280 µs, total: 6.05 ms\n",
      "Wall time: 5.93 ms\n"
     ]
    }
   ],
   "source": [
    "%%time\n",
    "sq=[item **2 for item in xList]"
   ]
  },
  {
   "cell_type": "code",
   "execution_count": 45,
   "id": "47935188",
   "metadata": {},
   "outputs": [
    {
     "name": "stdout",
     "output_type": "stream",
     "text": [
      "CPU times: user 109 µs, sys: 20 µs, total: 129 µs\n",
      "Wall time: 134 µs\n"
     ]
    }
   ],
   "source": [
    "%%time\n",
    "#time it function , times the execution time\n",
    "sq = x ** 2"
   ]
  },
  {
   "cell_type": "markdown",
   "id": "406bf0e6",
   "metadata": {},
   "source": [
    "## .linspace()\n",
    "- create a linear spacing in a given range of the provided number"
   ]
  },
  {
   "cell_type": "code",
   "execution_count": 47,
   "id": "a88883af",
   "metadata": {},
   "outputs": [
    {
     "data": {
      "text/plain": [
       "array([0.  , 0.25, 0.5 , 0.75, 1.  ])"
      ]
     },
     "execution_count": 47,
     "metadata": {},
     "output_type": "execute_result"
    }
   ],
   "source": [
    "np.linspace(0,1,5)   #creates 5 elements of equal spacing between 0 and 1"
   ]
  },
  {
   "cell_type": "code",
   "execution_count": 48,
   "id": "356fb0ab",
   "metadata": {},
   "outputs": [
    {
     "data": {
      "text/plain": [
       "array([11, 12, 13, 14, 15, 16, 17, 18, 19, 20, 21, 22, 23])"
      ]
     },
     "execution_count": 48,
     "metadata": {},
     "output_type": "execute_result"
    }
   ],
   "source": [
    "np.arange(11,24,1)"
   ]
  },
  {
   "cell_type": "code",
   "execution_count": 49,
   "id": "c1a1c16c",
   "metadata": {},
   "outputs": [],
   "source": [
    "# Start 11\n",
    "# Stop 24\n",
    "# Step 1"
   ]
  },
  {
   "cell_type": "code",
   "execution_count": 50,
   "id": "2263e57d",
   "metadata": {},
   "outputs": [],
   "source": [
    "x = np.array([4,9])\n",
    "y = np.array([2,3])"
   ]
  },
  {
   "cell_type": "code",
   "execution_count": 53,
   "id": "e23bfd2b",
   "metadata": {},
   "outputs": [
    {
     "data": {
      "text/plain": [
       "array([ 6, 12])"
      ]
     },
     "execution_count": 53,
     "metadata": {},
     "output_type": "execute_result"
    }
   ],
   "source": [
    "x + y    #Element wise addition because x and y are array / vector addition"
   ]
  },
  {
   "cell_type": "code",
   "execution_count": 54,
   "id": "eaec6645",
   "metadata": {},
   "outputs": [
    {
     "data": {
      "text/plain": [
       "array([2., 3.])"
      ]
     },
     "execution_count": 54,
     "metadata": {},
     "output_type": "execute_result"
    }
   ],
   "source": [
    "x / y"
   ]
  },
  {
   "cell_type": "code",
   "execution_count": 55,
   "id": "8a33944b",
   "metadata": {},
   "outputs": [
    {
     "data": {
      "text/plain": [
       "array([0, 0])"
      ]
     },
     "execution_count": 55,
     "metadata": {},
     "output_type": "execute_result"
    }
   ],
   "source": [
    "x % y"
   ]
  },
  {
   "cell_type": "code",
   "execution_count": 56,
   "id": "74975940",
   "metadata": {},
   "outputs": [
    {
     "data": {
      "text/plain": [
       "array([ 8, 27])"
      ]
     },
     "execution_count": 56,
     "metadata": {},
     "output_type": "execute_result"
    }
   ],
   "source": [
    "x * y"
   ]
  },
  {
   "cell_type": "markdown",
   "id": "a70ed68f",
   "metadata": {},
   "source": [
    "## Statistics"
   ]
  },
  {
   "cell_type": "code",
   "execution_count": 62,
   "id": "3bb9652b",
   "metadata": {},
   "outputs": [],
   "source": [
    "np.random.seed(0)\n",
    "x = np.random.randint(1,20,size=40)"
   ]
  },
  {
   "cell_type": "code",
   "execution_count": 63,
   "id": "dc545efc",
   "metadata": {},
   "outputs": [
    {
     "data": {
      "text/plain": [
       "array([13, 16,  1,  4,  4,  8, 10, 19,  5,  7, 13,  2,  7,  8, 15, 18,  6,\n",
       "       14,  9, 10, 17,  6, 16, 16,  1, 19,  4, 18, 15,  8,  1,  2, 10,  1,\n",
       "       11,  4, 12, 19,  3,  1])"
      ]
     },
     "execution_count": 63,
     "metadata": {},
     "output_type": "execute_result"
    }
   ],
   "source": [
    "x"
   ]
  },
  {
   "cell_type": "code",
   "execution_count": 64,
   "id": "a4d9b650",
   "metadata": {},
   "outputs": [
    {
     "data": {
      "text/plain": [
       "9.325"
      ]
     },
     "execution_count": 64,
     "metadata": {},
     "output_type": "execute_result"
    }
   ],
   "source": [
    "np.mean(x)"
   ]
  },
  {
   "cell_type": "code",
   "execution_count": 65,
   "id": "afc52894",
   "metadata": {},
   "outputs": [
    {
     "data": {
      "text/plain": [
       "8.5"
      ]
     },
     "execution_count": 65,
     "metadata": {},
     "output_type": "execute_result"
    }
   ],
   "source": [
    "np.median(x)"
   ]
  },
  {
   "cell_type": "code",
   "execution_count": 66,
   "id": "91ddd04f",
   "metadata": {},
   "outputs": [
    {
     "data": {
      "text/plain": [
       "ModeResult(mode=1, count=5)"
      ]
     },
     "execution_count": 66,
     "metadata": {},
     "output_type": "execute_result"
    }
   ],
   "source": [
    "from scipy.stats import mode\n",
    "mode(x)"
   ]
  },
  {
   "cell_type": "code",
   "execution_count": 67,
   "id": "f179b7ed",
   "metadata": {},
   "outputs": [
    {
     "data": {
      "text/plain": [
       "5.943010600697259"
      ]
     },
     "execution_count": 67,
     "metadata": {},
     "output_type": "execute_result"
    }
   ],
   "source": [
    "np.std(x)  # standard deviation"
   ]
  },
  {
   "cell_type": "code",
   "execution_count": 68,
   "id": "65003aec",
   "metadata": {},
   "outputs": [
    {
     "data": {
      "text/plain": [
       "35.319375"
      ]
     },
     "execution_count": 68,
     "metadata": {},
     "output_type": "execute_result"
    }
   ],
   "source": [
    "np.var(x) #variance"
   ]
  },
  {
   "cell_type": "markdown",
   "id": "ff9b7ac2",
   "metadata": {},
   "source": [
    "# 2d array"
   ]
  },
  {
   "cell_type": "code",
   "execution_count": 69,
   "id": "11bdb83b",
   "metadata": {},
   "outputs": [
    {
     "data": {
      "text/plain": [
       "array([[1, 2, 3],\n",
       "       [4, 5, 6],\n",
       "       [7, 8, 9]])"
      ]
     },
     "execution_count": 69,
     "metadata": {},
     "output_type": "execute_result"
    }
   ],
   "source": [
    "matrix = np.array([ [1,2,3] , [4,5,6] , [7,8,9] ])\n",
    "matrix"
   ]
  },
  {
   "cell_type": "code",
   "execution_count": 70,
   "id": "91e9f643",
   "metadata": {},
   "outputs": [
    {
     "data": {
      "text/plain": [
       "2"
      ]
     },
     "execution_count": 70,
     "metadata": {},
     "output_type": "execute_result"
    }
   ],
   "source": [
    "matrix.ndim"
   ]
  },
  {
   "cell_type": "code",
   "execution_count": 71,
   "id": "f0e4cf6b",
   "metadata": {},
   "outputs": [
    {
     "data": {
      "text/plain": [
       "6"
      ]
     },
     "execution_count": 71,
     "metadata": {},
     "output_type": "execute_result"
    }
   ],
   "source": [
    "matrix[1,2]"
   ]
  },
  {
   "cell_type": "code",
   "execution_count": 72,
   "id": "2f21974a",
   "metadata": {},
   "outputs": [
    {
     "data": {
      "text/plain": [
       "8"
      ]
     },
     "execution_count": 72,
     "metadata": {},
     "output_type": "execute_result"
    }
   ],
   "source": [
    "matrix[2,1]"
   ]
  },
  {
   "cell_type": "code",
   "execution_count": 74,
   "id": "ae0a2fb8",
   "metadata": {},
   "outputs": [
    {
     "data": {
      "text/plain": [
       "array([[5, 6],\n",
       "       [8, 9]])"
      ]
     },
     "execution_count": 74,
     "metadata": {},
     "output_type": "execute_result"
    }
   ],
   "source": [
    "matrix[1:,1:]"
   ]
  },
  {
   "cell_type": "code",
   "execution_count": 78,
   "id": "e68b375a",
   "metadata": {},
   "outputs": [
    {
     "data": {
      "text/plain": [
       "array([[1, 2],\n",
       "       [4, 5],\n",
       "       [7, 8]])"
      ]
     },
     "execution_count": 78,
     "metadata": {},
     "output_type": "execute_result"
    }
   ],
   "source": [
    "matrix[:,:2]"
   ]
  },
  {
   "cell_type": "markdown",
   "id": "c9b4f0f4",
   "metadata": {},
   "source": [
    "### dot product / Matrix multiplication"
   ]
  },
  {
   "cell_type": "code",
   "execution_count": 81,
   "id": "0feee297",
   "metadata": {},
   "outputs": [],
   "source": [
    "A = np.array([[1,2,3],[4,5,6]])\n",
    "B = np.array([[7,8],[9,10],[11,12]])"
   ]
  },
  {
   "cell_type": "code",
   "execution_count": 82,
   "id": "ee9d8141",
   "metadata": {},
   "outputs": [
    {
     "data": {
      "text/plain": [
       "(2, 3)"
      ]
     },
     "execution_count": 82,
     "metadata": {},
     "output_type": "execute_result"
    }
   ],
   "source": [
    "A.shape"
   ]
  },
  {
   "cell_type": "code",
   "execution_count": 83,
   "id": "8636889b",
   "metadata": {},
   "outputs": [
    {
     "data": {
      "text/plain": [
       "(3, 2)"
      ]
     },
     "execution_count": 83,
     "metadata": {},
     "output_type": "execute_result"
    }
   ],
   "source": [
    "B.shape"
   ]
  },
  {
   "cell_type": "code",
   "execution_count": 84,
   "id": "ceb6cda7",
   "metadata": {},
   "outputs": [],
   "source": [
    "output = np.dot(A,B)"
   ]
  },
  {
   "cell_type": "code",
   "execution_count": 85,
   "id": "6b1f03cb",
   "metadata": {},
   "outputs": [
    {
     "data": {
      "text/plain": [
       "array([[ 58,  64],\n",
       "       [139, 154]])"
      ]
     },
     "execution_count": 85,
     "metadata": {},
     "output_type": "execute_result"
    }
   ],
   "source": [
    "output"
   ]
  },
  {
   "cell_type": "code",
   "execution_count": 87,
   "id": "e1296156",
   "metadata": {},
   "outputs": [],
   "source": [
    "det = np.linalg.det(output)   #finding determinant of output"
   ]
  },
  {
   "cell_type": "code",
   "execution_count": 88,
   "id": "08684d40",
   "metadata": {},
   "outputs": [
    {
     "data": {
      "text/plain": [
       "36.00000000000032"
      ]
     },
     "execution_count": 88,
     "metadata": {},
     "output_type": "execute_result"
    }
   ],
   "source": [
    "det"
   ]
  },
  {
   "cell_type": "code",
   "execution_count": 91,
   "id": "cf8e97f4",
   "metadata": {},
   "outputs": [
    {
     "data": {
      "text/plain": [
       "36.0"
      ]
     },
     "execution_count": 91,
     "metadata": {},
     "output_type": "execute_result"
    }
   ],
   "source": [
    "np.round(det,2)"
   ]
  },
  {
   "cell_type": "code",
   "execution_count": 92,
   "id": "088c2fbe",
   "metadata": {},
   "outputs": [
    {
     "data": {
      "text/plain": [
       "array([[ 4.27777778, -1.77777778],\n",
       "       [-3.86111111,  1.61111111]])"
      ]
     },
     "execution_count": 92,
     "metadata": {},
     "output_type": "execute_result"
    }
   ],
   "source": [
    "np.linalg.inv(output)   #finding inverse of the output"
   ]
  },
  {
   "cell_type": "markdown",
   "id": "f6a78a1a",
   "metadata": {},
   "source": [
    "### Converting 2d array to 1d array"
   ]
  },
  {
   "cell_type": "code",
   "execution_count": 94,
   "id": "667a6810",
   "metadata": {},
   "outputs": [
    {
     "name": "stdout",
     "output_type": "stream",
     "text": [
      "[[4 5 6]\n",
      " [3 2 0]]\n",
      "dimension = 2\n"
     ]
    }
   ],
   "source": [
    "x = np.array([[4,5,6],[3,2,0]])\n",
    "print(x)\n",
    "print (f\"dimension = {x.ndim}\")"
   ]
  },
  {
   "cell_type": "code",
   "execution_count": 96,
   "id": "3123761a",
   "metadata": {},
   "outputs": [
    {
     "name": "stdout",
     "output_type": "stream",
     "text": [
      "[4 5 6 3 2 0]\n",
      "dimension = 1\n"
     ]
    }
   ],
   "source": [
    "xOneDim = x.flatten()\n",
    "print(xOneDim)\n",
    "print(f\"dimension = {xOneDim.ndim}\")"
   ]
  },
  {
   "cell_type": "markdown",
   "id": "6095e51b",
   "metadata": {},
   "source": [
    "### Converting 1d array to 2d array / .reshape()"
   ]
  },
  {
   "cell_type": "code",
   "execution_count": 99,
   "id": "d5cecafe",
   "metadata": {},
   "outputs": [
    {
     "data": {
      "text/plain": [
       "array([[1, 2, 3],\n",
       "       [4, 5, 6],\n",
       "       [7, 8, 9]])"
      ]
     },
     "execution_count": 99,
     "metadata": {},
     "output_type": "execute_result"
    }
   ],
   "source": [
    "x = np.arange(1,10)\n",
    "x.reshape(3,3)"
   ]
  },
  {
   "cell_type": "code",
   "execution_count": 100,
   "id": "a09e0a6a",
   "metadata": {},
   "outputs": [
    {
     "data": {
      "text/plain": [
       "array([[1, 2, 3, 4, 5, 6, 7, 8, 9]])"
      ]
     },
     "execution_count": 100,
     "metadata": {},
     "output_type": "execute_result"
    }
   ],
   "source": [
    "x.reshape(1,-1) \n",
    "# no of rows= 1,\n",
    "#no of column unknown\n",
    "#row matrix"
   ]
  },
  {
   "cell_type": "code",
   "execution_count": 103,
   "id": "0e72cfb4",
   "metadata": {},
   "outputs": [
    {
     "data": {
      "text/plain": [
       "array([[1],\n",
       "       [2],\n",
       "       [3],\n",
       "       [4],\n",
       "       [5],\n",
       "       [6],\n",
       "       [7],\n",
       "       [8],\n",
       "       [9]])"
      ]
     },
     "execution_count": 103,
     "metadata": {},
     "output_type": "execute_result"
    }
   ],
   "source": [
    "x.reshape(-1,1)\n",
    "# no of columns= 1,\n",
    "# no of row unknown\n",
    "# column matrix"
   ]
  },
  {
   "cell_type": "code",
   "execution_count": 104,
   "id": "cd35b71d",
   "metadata": {},
   "outputs": [
    {
     "data": {
      "text/plain": [
       "array([[1, 2, 3],\n",
       "       [4, 5, 6]])"
      ]
     },
     "execution_count": 104,
     "metadata": {},
     "output_type": "execute_result"
    }
   ],
   "source": [
    "x = np.array([[1,2,3],[4,5,6]])\n",
    "x"
   ]
  },
  {
   "cell_type": "code",
   "execution_count": 106,
   "id": "27645bf7",
   "metadata": {},
   "outputs": [
    {
     "data": {
      "text/plain": [
       "21"
      ]
     },
     "execution_count": 106,
     "metadata": {},
     "output_type": "execute_result"
    }
   ],
   "source": [
    "x.sum()   #sum of all the elements"
   ]
  },
  {
   "cell_type": "code",
   "execution_count": 107,
   "id": "1661b998",
   "metadata": {},
   "outputs": [
    {
     "data": {
      "text/plain": [
       "array([ 6, 15])"
      ]
     },
     "execution_count": 107,
     "metadata": {},
     "output_type": "execute_result"
    }
   ],
   "source": [
    "x.sum(axis=1)  \n",
    "#horizontal operation"
   ]
  },
  {
   "cell_type": "code",
   "execution_count": 109,
   "id": "b2311e42",
   "metadata": {},
   "outputs": [
    {
     "data": {
      "text/plain": [
       "array([5, 7, 9])"
      ]
     },
     "execution_count": 109,
     "metadata": {},
     "output_type": "execute_result"
    }
   ],
   "source": [
    "x.sum(axis=0)\n",
    "#vertical operation"
   ]
  },
  {
   "cell_type": "markdown",
   "id": "e712dc99",
   "metadata": {},
   "source": [
    "### Broadcasting\n"
   ]
  },
  {
   "cell_type": "code",
   "execution_count": 110,
   "id": "2c87c473",
   "metadata": {},
   "outputs": [],
   "source": [
    "x = np.array([2,5])"
   ]
  },
  {
   "cell_type": "code",
   "execution_count": 114,
   "id": "289e90d1",
   "metadata": {},
   "outputs": [
    {
     "data": {
      "text/plain": [
       "array([2, 5])"
      ]
     },
     "execution_count": 114,
     "metadata": {},
     "output_type": "execute_result"
    }
   ],
   "source": [
    "x"
   ]
  },
  {
   "cell_type": "code",
   "execution_count": 115,
   "id": "e96dc334",
   "metadata": {},
   "outputs": [
    {
     "data": {
      "text/plain": [
       "array([10, 25])"
      ]
     },
     "execution_count": 115,
     "metadata": {},
     "output_type": "execute_result"
    }
   ],
   "source": [
    "x * 5"
   ]
  },
  {
   "cell_type": "code",
   "execution_count": 116,
   "id": "a731b518",
   "metadata": {},
   "outputs": [
    {
     "data": {
      "text/plain": [
       "array([10, 13])"
      ]
     },
     "execution_count": 116,
     "metadata": {},
     "output_type": "execute_result"
    }
   ],
   "source": [
    "x + 8"
   ]
  },
  {
   "cell_type": "code",
   "execution_count": null,
   "id": "95ddb3bf",
   "metadata": {},
   "outputs": [],
   "source": []
  }
 ],
 "metadata": {
  "kernelspec": {
   "display_name": "Python 3 (ipykernel)",
   "language": "python",
   "name": "python3"
  },
  "language_info": {
   "codemirror_mode": {
    "name": "ipython",
    "version": 3
   },
   "file_extension": ".py",
   "mimetype": "text/x-python",
   "name": "python",
   "nbconvert_exporter": "python",
   "pygments_lexer": "ipython3",
   "version": "3.11.5"
  }
 },
 "nbformat": 4,
 "nbformat_minor": 5
}
